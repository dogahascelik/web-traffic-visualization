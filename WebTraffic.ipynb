{
 "cells": [
  {
   "cell_type": "markdown",
   "metadata": {},
   "source": [
    "### Web Traffic Data\n",
    "\n",
    "---"
   ]
  },
  {
   "cell_type": "markdown",
   "metadata": {},
   "source": [
    "__Background Story:__\n",
    "\n",
    "Silin, Kalliopi and Shubham are interns at L'Oréal. \n",
    "\n",
    "They want to compare visitors to the L'Oréal website.\n",
    "\n",
    "Each of them collects site traffic data from different sources:\n",
    "\n",
    "    Silin collects data for Google Analytics.\n",
    "    Kalliopi collects data for Facebook Ads.\n",
    "    Shubham collects data for email campaigns.\n",
    "\n",
    "---\n",
    "#### Your task:\n",
    "\n",
    "You are give three text files:\n",
    "\n",
    "    \"Silin.txt\"\n",
    "    \"Kalliopi.txt\"\n",
    "    \"Shubham.txt\"\n",
    "\n",
    "Each file contains 15 values (number of visits) collected every two days.\n",
    "\n",
    "Steps to follow:\n",
    "\n",
    "* Read the data from each file and store the values __in three separate lists__. (One for Silin, one for Kalliopi and one for Shubham).\n",
    "* <span style=\"color:crimson\">Note:</span> if you are reading data from a text file as a list. The data in your list is of type text (string), you need to convert it to float. For that, you can loop over the values in the list and convert them to float, you can update the values in the original list or create a new one.\n",
    "* Using matplotlib, plot the data as a line graph showing the two-day visits for each source __on the same plot__.\n",
    "* Label the axes and include a legend.\n",
    "\n",
    "Graph Specifications:\n",
    "\n",
    "* X-axis: Day\n",
    "* Y-axis: Number of visits\n",
    "* Title: \"L'Oréal daily visits\"\n",
    "* Each line should have a different color and line style.\n",
    "\n",
    "Here is the desired output:\n",
    "\n",
    "<div style=\"text-align:center\">\n",
    "    <img style=\"height:250px\" src=\"images/output.png\" />\n",
    "</div>\n"
   ]
  },
  {
   "cell_type": "markdown",
   "metadata": {},
   "source": [
    "---"
   ]
  },
  {
   "cell_type": "code",
   "execution_count": null,
   "metadata": {},
   "outputs": [],
   "source": [
    "#visualization in phyton : matplotlib, seaborn\n",
    "\n",
    "#x = 2,4,6,8,10,12,14\n",
    "#y = 150,200,250,300,350,400,450\n",
    "\n",
    "myfile_1 = open (file= \"./data/Kalliopi.txt\", mode =\"r\")\n",
    "lines1= myfile_1.readlines() #read the content of the file as a list\n",
    "myfile_1.close()\n",
    "\n",
    "\n",
    "myfile_2 = open (file= \"./data/Shubham.txt\", mode =\"r\")\n",
    "lines2= myfile_2.readlines() #read the content of the file as a list\n",
    "myfile_2.close()\n",
    "\n",
    "\n",
    "myfile_3 = open (file= \"./data/Silin.txt\", mode =\"r\")\n",
    "lines3= myfile_3.readlines() #read the content of the file as a list\n",
    "myfile_3.close()\n",
    "\n",
    "for i in range (len(lines1)):\n",
    "    lines1[i]=float(lines1[i])\n",
    "\n",
    "for i in range (len(lines2)):\n",
    "    lines2[i]=float(lines2[i])\n",
    "    \n",
    "for i in range (len(lines3)):\n",
    "    lines3[i]=float(lines3[i])\n",
    "\n",
    "print (lines1)\n",
    "print (lines2)\n",
    "print (lines3)"
   ]
  },
  {
   "cell_type": "code",
   "execution_count": null,
   "metadata": {},
   "outputs": [],
   "source": [
    "import matplotlib.pyplot as plt\n",
    "\n",
    "fig, ax = plt.subplots(figsize=(10, 6))  # to arrange the size of the graph\n",
    "\n",
    "# Plot each data source\n",
    "ax.plot(lines3, color=\"red\", marker= '*', label=\"Google Analytics (Silin)\")\n",
    "ax.plot(lines2, color=\"green\",marker= 'o', linestyle=\"dashed\", label=\"Facebook Ads (Kalliopi)\")\n",
    "ax.plot(lines1, color=\"royalblue\",marker= 'x', linestyle=\":\", label=\"Email Campaigns (Shubham)\")\n",
    "\n",
    "# For Label and title\n",
    "ax.set_xlabel(\"Day\")\n",
    "ax.set_ylabel(\"Number of Visits\")\n",
    "ax.set_title(\"L'Oréal Daily Visits\")\n",
    "\n",
    "# For legend \n",
    "ax.legend()\n",
    "\n",
    "# Display the plot\n",
    "plt.show()"
   ]
  },
  {
   "cell_type": "code",
   "execution_count": null,
   "metadata": {},
   "outputs": [],
   "source": []
  },
  {
   "cell_type": "code",
   "execution_count": null,
   "metadata": {},
   "outputs": [],
   "source": []
  }
 ],
 "metadata": {
  "kernelspec": {
   "display_name": "Python [conda env:base] *",
   "language": "python",
   "name": "conda-base-py"
  },
  "language_info": {
   "codemirror_mode": {
    "name": "ipython",
    "version": 3
   },
   "file_extension": ".py",
   "mimetype": "text/x-python",
   "name": "python",
   "nbconvert_exporter": "python",
   "pygments_lexer": "ipython3",
   "version": "3.12.7"
  }
 },
 "nbformat": 4,
 "nbformat_minor": 4
}
